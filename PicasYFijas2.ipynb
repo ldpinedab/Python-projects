{
 "cells": [
  {
   "cell_type": "code",
   "execution_count": 74,
   "id": "e8e837d8",
   "metadata": {},
   "outputs": [
    {
     "name": "stdout",
     "output_type": "stream",
     "text": [
      "Ingrese un número de 4 cifras diferentes por favor: 98765\n",
      "Ingrese un número de 4 cifras diferentes por favor: 6789\n"
     ]
    },
    {
     "data": {
      "text/plain": [
       "'6789'"
      ]
     },
     "execution_count": 74,
     "metadata": {},
     "output_type": "execute_result"
    }
   ],
   "source": [
    "def esValido(n):\n",
    "    for i in range(4):\n",
    "        for j in range(i+1,4):\n",
    "            if(n[i] == n[j]):\n",
    "                return False\n",
    "    return True\n",
    "\n",
    "def numeroValido():\n",
    "    a =\"0000\"\n",
    "    while(len(a) != 4 or not esValido(a)):\n",
    "        a = input(\"Ingrese un número de 4 cifras diferentes por favor: \")\n",
    "    return a\n",
    "\n",
    "b = numeroValido()\n",
    "b"
   ]
  },
  {
   "cell_type": "code",
   "execution_count": 107,
   "id": "d8fa607e",
   "metadata": {},
   "outputs": [
    {
     "name": "stdout",
     "output_type": "stream",
     "text": [
      "Intentaremos adivinar el número que pensaste\n",
      "Tu número es:  8510\n",
      "El número de picas es: 2\n",
      "El número de fijas es: 0\n",
      "Tu número es:  2679\n",
      "El número de picas es: 1\n",
      "El número de fijas es: 0\n",
      "Tu número es:  8530\n",
      "El número de picas es: 2\n",
      "El número de fijas es: 0\n",
      "Tu número es:  8540\n",
      "El número de picas es: 1\n",
      "El número de fijas es: 0\n",
      "['4']\n",
      "['1', '3']\n",
      "['2', '5', '6', '7', '8', '9', '0']\n"
     ]
    }
   ],
   "source": [
    "import random\n",
    "\n",
    "def revisarPosiblesFijas():\n",
    "    '''Aquí se revisa si solo queda una posibilidad, y se sube al arreglo de fijas'''\n",
    "    pass\n",
    "\n",
    "def agregarASolucion(digito, indice):\n",
    "    if(solucion_fijas.count(digito) == 0):\n",
    "        solucion_fijas[indice] = digito\n",
    "    elif(solucion_fijas[indice] != digito):\n",
    "        raise Exception(\"Existe una contradicción en el dígito fijo\")\n",
    "\n",
    "def quitarDePosiblesFijas(digito, indice):\n",
    "    quitarNumeroLista(digito, posibles_fijas[indice])\n",
    "    revisarPosiblesFijas()\n",
    "\n",
    "def getPicas(numero):\n",
    "    cont = 0\n",
    "    for i in picas:\n",
    "        if(i.count(numero) > 0):\n",
    "            return cont\n",
    "        else:\n",
    "            cont += 1\n",
    "    raise Exception(\"El número no fue encontrado\")\n",
    "    \n",
    "def getFijas(numero):\n",
    "    cont = 0\n",
    "    for i in fijas:\n",
    "        if(i.count(numero) > 0):\n",
    "            return cont\n",
    "        else:\n",
    "            cont += 1\n",
    "    raise Exception(\"El número no fue encontrado\")\n",
    "\n",
    "def coincidenciasDigitosEnLista(numero,lista):\n",
    "    aux = 0\n",
    "    for i in range(4):\n",
    "        aux = lista.count(numero[i]) + aux\n",
    "    return aux\n",
    "\n",
    "def revisarRechazos():\n",
    "    while(len(aciertos_0) > 0):\n",
    "        n = aciertos_0.pop()\n",
    "        agregarNumeroALista(n[0],rechazos, True)\n",
    "        agregarNumeroALista(n[1],rechazos, True)\n",
    "        agregarNumeroALista(n[2],rechazos, True)\n",
    "        agregarNumeroALista(n[3],rechazos, True)\n",
    "    j = len(aciertos_1) - 1\n",
    "    while(j > 0):\n",
    "        numero = aciertos_1[j]\n",
    "        n = coincidenciasDigitosEnLista(numero,solucion)\n",
    "        if(n == 1):\n",
    "            for i in range(4):\n",
    "                if(solucion.count(numero[i]) == 0):\n",
    "                    agregarNumeroALista(numero[i],rechazos,True)\n",
    "            aciertos_1.pop()\n",
    "        n = coincidenciasDigitosEnLista(numero,rechazos)\n",
    "        if(n == 3):\n",
    "            for i in range(4):\n",
    "                if(rechazos.count(numero[i]) == 0):\n",
    "                    agregarNumeroALista(numero[i],solucion,True)\n",
    "            aciertos_1.pop()\n",
    "        j = j-1\n",
    "\n",
    "def contarAciertos():\n",
    "    temp = 0\n",
    "    for i in range(5):\n",
    "        aux = len(aciertos[i])\n",
    "        temp = temp + aux*i\n",
    "    return temp        \n",
    "\n",
    "def agregarNumeroALista(numero, lista, retirarBombo=False):\n",
    "    if(lista.count(numero) == 0):\n",
    "        lista.append(numero)\n",
    "    if(retirarBombo):\n",
    "        quitarNumeroLista(numero,bombo)\n",
    "\n",
    "def quitarNumeroLista(numero, lista):\n",
    "    if(lista.count(numero) >= 1):\n",
    "        lista.remove(numero)\n",
    "        \n",
    "def clasificarNumero(numero):\n",
    "    print(\"Tu número es: \",numero)\n",
    "    rtaValida = False\n",
    "    nPicas = 0\n",
    "    nFijas = 0\n",
    "    nAciertos = 0\n",
    "    while(not rtaValida):\n",
    "        nPicas = int(input(\"El número de picas es: \"))\n",
    "        nFijas = int(input(\"El número de fijas es: \"))\n",
    "        nAciertos = nPicas + nFijas\n",
    "        if(nAciertos > 4 or nPicas < 0 or nFijas < 0):\n",
    "            print(\"La información no es válida\")\n",
    "        else:\n",
    "            rtaValida = True\n",
    "    agregarNumeroALista(numero,picas[nPicas])\n",
    "    agregarNumeroALista(numero,fijas[nFijas])\n",
    "    agregarNumeroALista(numero,aciertos[nAciertos])\n",
    "    return nAciertos,nPicas,nFijas\n",
    "\n",
    "fijas_0 = []\n",
    "fijas_1 = []\n",
    "fijas_2 = []\n",
    "fijas_3 = []\n",
    "fijas_4 = []\n",
    "fijas = []\n",
    "fijas.append(fijas_0)\n",
    "fijas.append(fijas_1)\n",
    "fijas.append(fijas_2)\n",
    "fijas.append(fijas_3)\n",
    "fijas.append(fijas_4)\n",
    "picas_0 = []\n",
    "picas_1 = []\n",
    "picas_2 = []\n",
    "picas_3 = []\n",
    "picas_4 = []\n",
    "picas = []\n",
    "picas.append(picas_0)\n",
    "picas.append(picas_1)\n",
    "picas.append(picas_2)\n",
    "picas.append(picas_3)\n",
    "picas.append(picas_4)\n",
    "aciertos_0 = []\n",
    "aciertos_1 = []\n",
    "aciertos_2 = []\n",
    "aciertos_3 = []\n",
    "aciertos_4 = []\n",
    "aciertos = []\n",
    "aciertos.append(aciertos_0)\n",
    "aciertos.append(aciertos_1)\n",
    "aciertos.append(aciertos_2)\n",
    "aciertos.append(aciertos_3)\n",
    "aciertos.append(aciertos_4)\n",
    "rechazos = []\n",
    "solucion = []\n",
    "solucion_fijas = ['','','','']\n",
    "posibles_fijas = [[],[],[],[]]\n",
    "imposibles = [[],[],[],[]]\n",
    "\n",
    "print(\"Intentaremos adivinar el número que pensaste\")\n",
    "\n",
    "digitos = ['1','2','3','4','5','6','7','8','9','0']\n",
    "bombo = ['1','2','3','4','5','6','7','8','9','0']\n",
    "\n",
    "#Primero, buscar los 4 dígitos de nuestro número\n",
    "while(len(aciertos_4) < 1):\n",
    "    #Usar los dígitos iniciales aleatoriamente para buscar el número\n",
    "    while(len(aciertos_4) < 1 and len(digitos) > 2):\n",
    "        numero = digitos.pop(random.randint(0,len(digitos)-1)) + digitos.pop(random.randint(0,len(digitos)-1)) + digitos.pop(random.randint(0,len(digitos)-1)) + digitos.pop(random.randint(0,len(digitos)-1))\n",
    "        clasificarNumero(numero)\n",
    "    n = contarAciertos()\n",
    "    if(n == 4):\n",
    "        agregarNumeroALista(digitos.pop(), rechazos,True)\n",
    "        agregarNumeroALista(digitos.pop(), rechazos,True)\n",
    "    if(n == 2):\n",
    "        agregarNumeroALista(digitos.pop(), solucion,True)\n",
    "        agregarNumeroALista(digitos.pop(), solucion,True)\n",
    "    #Si hay 3 aciertos, hay que descartar uno de los dos dígitos que restan, ojalá en el de ¿menor? cantidad de aciertos\n",
    "    #Si el número de aciertos aumenta, quiere decir que el dígito elegido es solucion, y el reemplazado y sobrante son rechazos\n",
    "    #Si el número de aciertos disminuye, quiere decir que el dígito elegido es rechazo, y el reemplazado y sobrante son solucion\n",
    "    #Si el número de aciertos permanece igual, hay que probar el otro número\n",
    "    if(n == 3):\n",
    "        numero = ''\n",
    "        for i in range(len(aciertos),0,-1):\n",
    "            if len(aciertos[i-1]) > 0:\n",
    "                numero = aciertos[i-1][0]\n",
    "                break\n",
    "        p_prev = getPicas(numero)\n",
    "        f_prev = getFijas(numero)\n",
    "        n_prev = p_prev + f_prev\n",
    "        \n",
    "        x = random.randint(0,3)\n",
    "        aux = numero + ''\n",
    "        aux = aux.replace(aux[x],digitos[0])\n",
    "        n,p,f = clasificarNumero(aux)\n",
    "        if(n > n_prev):\n",
    "            #TODO Qué pasa si la que aumentó fue una fija (Agregar dígito a número fijo)\n",
    "            if(f > f_prev):\n",
    "                solucion_fijas[x] = digitos[0]\n",
    "            #TODO Qué pasa si la que aumenta fue una pica (Quitar dígito de posibles fijos)\n",
    "            if(p > p_prev):\n",
    "                \n",
    "            agregarNumeroALista(digitos[0],solucion,True)\n",
    "            agregarNumeroALista(numero[x],rechazos,True)\n",
    "            agregarNumeroALista(digitos[1],rechazos,True)\n",
    "        elif(n < n_prev):\n",
    "            #TODO Qué pasa si la que disminuyó fue una fija (Agregar número[x] a número fijo)\n",
    "            if(f < f_prev):\n",
    "                solucion_fijas[x] = numero[x]\n",
    "            #TODO Qué pasa si la que disminuye es una pica \n",
    "            agregarNumeroALista(digitos[0],rechazos,True)\n",
    "            agregarNumeroALista(numero[x],solucion,True)\n",
    "            agregarNumeroALista(digitos[1],solucion,True)\n",
    "        else:\n",
    "            aux = aux.replace(aux[x],digitos[1])\n",
    "            n,p,f = clasificarNumero(aux)\n",
    "            if(n > n_prev):\n",
    "                agregarNumeroALista(digitos[1],solucion,True)\n",
    "                agregarNumeroALista(numero[x],rechazos,True)\n",
    "                agregarNumeroALista(digitos[0],rechazos,True)\n",
    "            if(n < n_prev):\n",
    "                agregarNumeroALista(digitos[1],rechazos,True)\n",
    "                agregarNumeroALista(numero[x],solucion,True)\n",
    "                agregarNumeroALista(digitos[0],solucion,True)\n",
    "    #Revisar si hay algún número con rechazos completos\n",
    "    revisarRechazos()\n",
    "\n",
    "        \n",
    "    print(rechazos)\n",
    "    print(solucion)\n",
    "    print(bombo)\n",
    "    break"
   ]
  },
  {
   "cell_type": "code",
   "execution_count": 109,
   "id": "630280a2",
   "metadata": {},
   "outputs": [
    {
     "name": "stdout",
     "output_type": "stream",
     "text": [
      "[[], ['2679', '8540'], ['8510', '8530'], [], []]\n",
      "[['8510', '2679', '8530', '8540'], [], [], [], []]\n",
      "[[], ['2679', '8540'], ['8510', '8530'], [], []]\n",
      "['', '', '', '']\n",
      "[[], [], [], []]\n"
     ]
    }
   ],
   "source": [
    "print(picas)\n",
    "print(fijas)\n",
    "print(aciertos)\n",
    "print(solucion_fijas)\n",
    "print(posibles_fijas)"
   ]
  },
  {
   "cell_type": "code",
   "execution_count": 82,
   "id": "df794bc8",
   "metadata": {},
   "outputs": [],
   "source": [
    "revisarRechazos()"
   ]
  },
  {
   "cell_type": "code",
   "execution_count": 83,
   "id": "0e4301af",
   "metadata": {},
   "outputs": [
    {
     "data": {
      "text/plain": [
       "['1']"
      ]
     },
     "execution_count": 83,
     "metadata": {},
     "output_type": "execute_result"
    }
   ],
   "source": [
    "solucion"
   ]
  },
  {
   "cell_type": "code",
   "execution_count": 84,
   "id": "e2252c77",
   "metadata": {},
   "outputs": [
    {
     "data": {
      "text/plain": [
       "['2', '8']"
      ]
     },
     "execution_count": 84,
     "metadata": {},
     "output_type": "execute_result"
    }
   ],
   "source": [
    "rechazos"
   ]
  },
  {
   "cell_type": "code",
   "execution_count": 98,
   "id": "8ef4ce2b",
   "metadata": {},
   "outputs": [
    {
     "name": "stdout",
     "output_type": "stream",
     "text": [
      "3\n",
      "2\n",
      "1\n",
      "0\n"
     ]
    }
   ],
   "source": [
    "a = [[1,2,3],[4,5,6],[7,8,9]]\n",
    "for i in range(4,0,-1):\n",
    "    print(i-1)"
   ]
  },
  {
   "cell_type": "code",
   "execution_count": null,
   "id": "ea1bb078",
   "metadata": {},
   "outputs": [],
   "source": []
  }
 ],
 "metadata": {
  "kernelspec": {
   "display_name": "Python 3 (ipykernel)",
   "language": "python",
   "name": "python3"
  },
  "language_info": {
   "codemirror_mode": {
    "name": "ipython",
    "version": 3
   },
   "file_extension": ".py",
   "mimetype": "text/x-python",
   "name": "python",
   "nbconvert_exporter": "python",
   "pygments_lexer": "ipython3",
   "version": "3.11.0"
  }
 },
 "nbformat": 4,
 "nbformat_minor": 5
}
